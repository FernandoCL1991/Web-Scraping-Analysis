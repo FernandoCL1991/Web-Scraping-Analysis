{
 "cells": [
  {
   "cell_type": "code",
   "execution_count": 1,
   "metadata": {},
   "outputs": [],
   "source": [
    "# Importing Dependencies\n",
    "\n",
    "from splinter import Browser\n",
    "from bs4 import BeautifulSoup\n",
    "from webdriver_manager.chrome import ChromeDriverManager\n",
    "import pandas as pd"
   ]
  },
  {
   "cell_type": "code",
   "execution_count": 2,
   "metadata": {},
   "outputs": [
    {
     "name": "stderr",
     "output_type": "stream",
     "text": [
      "[WDM] - ====== WebDriver manager ======\n",
      "[WDM] - Current google-chrome version is 89.0.4389\n",
      "[WDM] - Get LATEST driver version for 89.0.4389\n"
     ]
    },
    {
     "name": "stdout",
     "output_type": "stream",
     "text": [
      "\n",
      "\n"
     ]
    },
    {
     "name": "stderr",
     "output_type": "stream",
     "text": [
      "[WDM] - Driver [C:\\Users\\fernando\\.wdm\\drivers\\chromedriver\\win32\\89.0.4389.23\\chromedriver.exe] found in cache\n"
     ]
    }
   ],
   "source": [
    "# Splinter setup\n",
    "\n",
    "executable_path = {'executable_path': ChromeDriverManager().install()}\n",
    "browser = Browser('chrome', **executable_path, headless = False)"
   ]
  },
  {
   "cell_type": "code",
   "execution_count": 3,
   "metadata": {},
   "outputs": [],
   "source": [
    "####################### PRUEBA ####################### OK!"
   ]
  },
  {
   "cell_type": "code",
   "execution_count": 4,
   "metadata": {},
   "outputs": [],
   "source": [
    "# Defining a function to the result of the scrape: news_title\n",
    "\n",
    "def news_title(browser):\n",
    "    \n",
    "    # Passing url for 'news_title' function\n",
    "    url = 'https://redplanetscience.com/'\n",
    "    browser.visit(url)\n",
    "\n",
    "    # Scrapping with Beautiful Soup\n",
    "    html = browser.html\n",
    "    soup = BeautifulSoup(html,'html.parser')\n",
    "\n",
    "    # Retrieving elements\n",
    "    article = soup.find('div', class_='list_text') \n",
    "    # Creating 'title' variable\n",
    "    title = article.find('div', class_= 'content_title').text\n",
    "\n",
    "    # Closing function difining: news_title\n",
    "    return title\n"
   ]
  },
  {
   "cell_type": "code",
   "execution_count": 5,
   "metadata": {},
   "outputs": [
    {
     "data": {
      "text/plain": [
       "'NASA Invites Students to Name Mars 2020 Rover'"
      ]
     },
     "execution_count": 5,
     "metadata": {},
     "output_type": "execute_result"
    }
   ],
   "source": [
    "news_title(browser)"
   ]
  },
  {
   "cell_type": "code",
   "execution_count": 6,
   "metadata": {},
   "outputs": [],
   "source": [
    "####################### PRUEBA ####################### OK!"
   ]
  },
  {
   "cell_type": "code",
   "execution_count": 7,
   "metadata": {},
   "outputs": [],
   "source": [
    "# Defining a function to the result of the scrape: news_p\n",
    "\n",
    "def news_p(browser):\n",
    "    \n",
    "    # Passing url for 'news_p' function\n",
    "    url = 'https://redplanetscience.com/'\n",
    "    browser.visit(url)\n",
    "\n",
    "    # Scrapping with Beautiful Soup\n",
    "    html = browser.html\n",
    "    soup = BeautifulSoup(html,'html.parser')\n",
    "\n",
    "    # Retrieving elements\n",
    "    article = soup.find('div', class_='list_text') \n",
    "    # Creating 'paragraph' variable\n",
    "    paragraph = article.find('div', class_= 'article_teaser_body').text \n",
    "\n",
    "    # Closing function difining: news_p\n",
    "    return paragraph"
   ]
  },
  {
   "cell_type": "code",
   "execution_count": 8,
   "metadata": {},
   "outputs": [
    {
     "data": {
      "text/plain": [
       "\"Mark your calendars: The agency's latest rover has only about 8,640,000 seconds to go before it touches down on the Red Planet, becoming history's next Mars car.\""
      ]
     },
     "execution_count": 8,
     "metadata": {},
     "output_type": "execute_result"
    }
   ],
   "source": [
    "news_p(browser)"
   ]
  },
  {
   "cell_type": "code",
   "execution_count": 9,
   "metadata": {},
   "outputs": [],
   "source": [
    "####################### PRUEBA ####################### OK!"
   ]
  },
  {
   "cell_type": "code",
   "execution_count": 10,
   "metadata": {},
   "outputs": [],
   "source": [
    "# Defining a function to the result of the scrape: current_img_url\n",
    "\n",
    "def current_img_url(browser):\n",
    "\n",
    "    # Passing url for 'current_img_url' function\n",
    "    url = 'https://spaceimages-mars.com/'\n",
    "    browser.visit(url)\n",
    "\n",
    "    # Scrapping with Beautiful Soup\n",
    "    html = browser.html\n",
    "    soup = BeautifulSoup(html,'html.parser') \n",
    "\n",
    "    # Retrieving elements\n",
    "    article = soup.find('div', class_='header')\n",
    "    # Creating 'image_url' variable\n",
    "    image_url = article.find('img', class_= 'headerimage fade-in').get('src')\n",
    "\n",
    "    # Creating final url variable\n",
    "    featured_image_url = f'https://spaceimages-mars.com/{image_url}'\n",
    "\n",
    "    # Closing function difining: current_img_url\n",
    "    return featured_image_url"
   ]
  },
  {
   "cell_type": "code",
   "execution_count": 11,
   "metadata": {},
   "outputs": [
    {
     "data": {
      "text/plain": [
       "'https://spaceimages-mars.com/image/featured/mars1.jpg'"
      ]
     },
     "execution_count": 11,
     "metadata": {},
     "output_type": "execute_result"
    }
   ],
   "source": [
    "current_img_url(browser)"
   ]
  },
  {
   "cell_type": "code",
   "execution_count": 12,
   "metadata": {},
   "outputs": [],
   "source": [
    "####################### PRUEBA ####################### ESTÁ MAL LA TABLA--- REVISAR TABLA"
   ]
  },
  {
   "cell_type": "code",
   "execution_count": 13,
   "metadata": {},
   "outputs": [],
   "source": [
    "# Defining a function to the result of the scrape: mars_facts\n",
    "\n",
    "def mars_facts(browser):\n",
    "\n",
    "    # Passing url for 'mars_facts_df'\n",
    "    url = 'https://galaxyfacts-mars.com/'\n",
    "\n",
    "    # Retrieving elements into 'tables'\n",
    "    tables = pd.read_html(url)\n",
    "    # Selecting desired table. Creating 'mars_facts_df' variable\n",
    "    mars_facts_df = tables[0]\n",
    "    mars_facts_df_cols = ['Mars-Earth Comparisson', 'Mars', 'Earth']\n",
    "    mars_facts_df.columns = mars_facts_df_cols\n",
    "    mars_facts_df.drop(labels=[0], axis= 0, inplace=True)\n",
    "\n",
    "    # Closing function difining: mars_facts\n",
    "    return mars_facts_df"
   ]
  },
  {
   "cell_type": "code",
   "execution_count": 14,
   "metadata": {},
   "outputs": [
    {
     "data": {
      "text/html": [
       "<div>\n",
       "<style scoped>\n",
       "    .dataframe tbody tr th:only-of-type {\n",
       "        vertical-align: middle;\n",
       "    }\n",
       "\n",
       "    .dataframe tbody tr th {\n",
       "        vertical-align: top;\n",
       "    }\n",
       "\n",
       "    .dataframe thead th {\n",
       "        text-align: right;\n",
       "    }\n",
       "</style>\n",
       "<table border=\"1\" class=\"dataframe\">\n",
       "  <thead>\n",
       "    <tr style=\"text-align: right;\">\n",
       "      <th></th>\n",
       "      <th>Mars-Earth Comparisson</th>\n",
       "      <th>Mars</th>\n",
       "      <th>Earth</th>\n",
       "    </tr>\n",
       "  </thead>\n",
       "  <tbody>\n",
       "    <tr>\n",
       "      <th>1</th>\n",
       "      <td>Diameter:</td>\n",
       "      <td>6,779 km</td>\n",
       "      <td>12,742 km</td>\n",
       "    </tr>\n",
       "    <tr>\n",
       "      <th>2</th>\n",
       "      <td>Mass:</td>\n",
       "      <td>6.39 × 10^23 kg</td>\n",
       "      <td>5.97 × 10^24 kg</td>\n",
       "    </tr>\n",
       "    <tr>\n",
       "      <th>3</th>\n",
       "      <td>Moons:</td>\n",
       "      <td>2</td>\n",
       "      <td>1</td>\n",
       "    </tr>\n",
       "    <tr>\n",
       "      <th>4</th>\n",
       "      <td>Distance from Sun:</td>\n",
       "      <td>227,943,824 km</td>\n",
       "      <td>149,598,262 km</td>\n",
       "    </tr>\n",
       "    <tr>\n",
       "      <th>5</th>\n",
       "      <td>Length of Year:</td>\n",
       "      <td>687 Earth days</td>\n",
       "      <td>365.24 days</td>\n",
       "    </tr>\n",
       "    <tr>\n",
       "      <th>6</th>\n",
       "      <td>Temperature:</td>\n",
       "      <td>-87 to -5 °C</td>\n",
       "      <td>-88 to 58°C</td>\n",
       "    </tr>\n",
       "  </tbody>\n",
       "</table>\n",
       "</div>"
      ],
      "text/plain": [
       "  Mars-Earth Comparisson             Mars            Earth\n",
       "1              Diameter:         6,779 km        12,742 km\n",
       "2                  Mass:  6.39 × 10^23 kg  5.97 × 10^24 kg\n",
       "3                 Moons:                2                1\n",
       "4     Distance from Sun:   227,943,824 km   149,598,262 km\n",
       "5        Length of Year:   687 Earth days      365.24 days\n",
       "6           Temperature:     -87 to -5 °C      -88 to 58°C"
      ]
     },
     "execution_count": 14,
     "metadata": {},
     "output_type": "execute_result"
    }
   ],
   "source": [
    "mars_facts(browser)"
   ]
  },
  {
   "cell_type": "code",
   "execution_count": 15,
   "metadata": {},
   "outputs": [],
   "source": [
    "####################### PRUEBA ####################### OK!"
   ]
  },
  {
   "cell_type": "code",
   "execution_count": 16,
   "metadata": {},
   "outputs": [],
   "source": [
    "# Defining a function to the result of the scrape: all_hemispheres_data\n",
    "\n",
    "def all_hemispheres_data(browser):\n",
    "    \n",
    "    # Passing url for 'hemisphere_image_urls'\n",
    "    url = 'https://marshemispheres.com'\n",
    "    browser.visit(url)\n",
    "\n",
    "    # Scrapping with Beautiful Soup\n",
    "    html = browser.html\n",
    "    soup = BeautifulSoup(html,'html.parser')\n",
    "\n",
    "    # Total number of hemispheres pages to visit to\n",
    "    links= browser.find_by_css('a.product-item img')\n",
    "\n",
    "    # Creating a list w/ 4 dictionaries with title and link to image per hemisphere w/ Splinter\n",
    "    hemisphere_image_urls  = []\n",
    "\n",
    "    for i in range(len(links)):\n",
    "\n",
    "        # creating dictionary\n",
    "        hemispheres_dict = {}\n",
    "\n",
    "        # first page, click to second\n",
    "        browser.find_by_css('a.product-item img')[i].click()\n",
    "\n",
    "        # on second page, retrieving title   \n",
    "        title= browser.find_by_css('h2').text\n",
    "        hemispheres_dict['title']= title\n",
    "\n",
    "        # on second page, retrieving url\n",
    "        img_url= browser.links.find_by_text('Sample').first['href']\n",
    "        hemispheres_dict['img_url']= img_url\n",
    "\n",
    "        # appending both results to list 'empty_list'\n",
    "        hemisphere_image_urls.append(hemispheres_dict)\n",
    "\n",
    "        # browse back to home page\n",
    "        browser.back()        \n",
    "            \n",
    "    # Closing function difining: all_hemispheres_data\n",
    "    return hemisphere_image_urls"
   ]
  },
  {
   "cell_type": "code",
   "execution_count": 17,
   "metadata": {},
   "outputs": [
    {
     "data": {
      "text/plain": [
       "[{'title': 'Cerberus Hemisphere Enhanced',\n",
       "  'img_url': 'https://marshemispheres.com/images/full.jpg'},\n",
       " {'title': 'Schiaparelli Hemisphere Enhanced',\n",
       "  'img_url': 'https://marshemispheres.com/images/schiaparelli_enhanced-full.jpg'},\n",
       " {'title': 'Syrtis Major Hemisphere Enhanced',\n",
       "  'img_url': 'https://marshemispheres.com/images/syrtis_major_enhanced-full.jpg'},\n",
       " {'title': 'Valles Marineris Hemisphere Enhanced',\n",
       "  'img_url': 'https://marshemispheres.com/images/valles_marineris_enhanced-full.jpg'}]"
      ]
     },
     "execution_count": 17,
     "metadata": {},
     "output_type": "execute_result"
    }
   ],
   "source": [
    "all_hemispheres_data(browser)"
   ]
  },
  {
   "cell_type": "code",
   "execution_count": 18,
   "metadata": {},
   "outputs": [],
   "source": [
    "####################### PRUEBA ####################### ESTÁ MAL LA TABLA--- REVISANDO TABLA!!......"
   ]
  },
  {
   "cell_type": "code",
   "execution_count": null,
   "metadata": {},
   "outputs": [],
   "source": []
  }
 ],
 "metadata": {
  "kernelspec": {
   "display_name": "Python 3",
   "language": "python",
   "name": "python3"
  },
  "language_info": {
   "codemirror_mode": {
    "name": "ipython",
    "version": 3
   },
   "file_extension": ".py",
   "mimetype": "text/x-python",
   "name": "python",
   "nbconvert_exporter": "python",
   "pygments_lexer": "ipython3",
   "version": "3.8.5"
  }
 },
 "nbformat": 4,
 "nbformat_minor": 4
}
